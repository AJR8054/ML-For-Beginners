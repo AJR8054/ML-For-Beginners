{
 "cells": [
  {
   "cell_type": "code",
   "execution_count": 30,
   "metadata": {},
   "outputs": [
    {
     "name": "stdout",
     "output_type": "stream",
     "text": [
      "Hello\n"
     ]
    },
    {
     "data": {
      "text/plain": [
       "\"\\n\\nimport matplotlib.pyplot as plt\\nimport numpy as np\\nfrom sklearn import datasets, linear_model, model_selection\\nX, y = datasets.load_diabetes(return_X_y=True)\\nprint(X.shape)\\nprint(X[0])\\nX = X[:, 2]\\nX = X.reshape((-1,1))\\nprint(X.shape)\\n\\nX_train, X_test, y_train, y_test = model_selection.train_test_split(X, y, test_size=0.33)\\nmodel = linear_model.LinearRegression()\\nmodel.fit(X_train, y_train)\\ny_pred = model.predict(X_test)\\n\\nplt.scatter(X_test, y_test,  color='black')\\nplt.plot(X_test, y_pred, color='blue', linewidth=3)\\nplt.xlabel('Scaled BMIs')\\nplt.ylabel('Disease Progression')\\nplt.title('A Graph Plot Showing Diabetes Progression Against BMI')\\nplt.show()\\n\""
      ]
     },
     "execution_count": 30,
     "metadata": {},
     "output_type": "execute_result"
    }
   ],
   "source": [
    "print(\"Hello\")\n",
    "\"\"\"\n",
    "\n",
    "import matplotlib.pyplot as plt\n",
    "import numpy as np\n",
    "from sklearn import datasets, linear_model, model_selection\n",
    "X, y = datasets.load_diabetes(return_X_y=True)\n",
    "print(X.shape)\n",
    "print(X[0])\n",
    "X = X[:, 2]\n",
    "X = X.reshape((-1,1))\n",
    "print(X.shape)\n",
    "\n",
    "X_train, X_test, y_train, y_test = model_selection.train_test_split(X, y, test_size=0.33)\n",
    "model = linear_model.LinearRegression()\n",
    "model.fit(X_train, y_train)\n",
    "y_pred = model.predict(X_test)\n",
    "\n",
    "plt.scatter(X_test, y_test,  color='black')\n",
    "plt.plot(X_test, y_pred, color='blue', linewidth=3)\n",
    "plt.xlabel('Scaled BMIs')\n",
    "plt.ylabel('Disease Progression')\n",
    "plt.title('A Graph Plot Showing Diabetes Progression Against BMI')\n",
    "plt.show()\n",
    "\"\"\""
   ]
  }
 ],
 "metadata": {
  "kernelspec": {
   "display_name": "Python 3",
   "language": "python",
   "name": "python3"
  },
  "language_info": {
   "codemirror_mode": {
    "name": "ipython",
    "version": 3
   },
   "file_extension": ".py",
   "mimetype": "text/x-python",
   "name": "python",
   "nbconvert_exporter": "python",
   "pygments_lexer": "ipython3",
   "version": "3.12.5"
  }
 },
 "nbformat": 4,
 "nbformat_minor": 2
}
